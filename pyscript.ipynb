{
 "metadata": {
  "language_info": {
   "codemirror_mode": {
    "name": "ipython",
    "version": 3
   },
   "file_extension": ".py",
   "mimetype": "text/x-python",
   "name": "python",
   "nbconvert_exporter": "python",
   "pygments_lexer": "ipython3",
   "version": "3.8.7-final"
  },
  "orig_nbformat": 2,
  "kernelspec": {
   "name": "python3",
   "display_name": "Python 3.8.7 64-bit",
   "metadata": {
    "interpreter": {
     "hash": "a32275e0c8fbdaef0e48fd92f9fcd95773e071f320bb1be1e8c870a47b475559"
    }
   }
  }
 },
 "nbformat": 4,
 "nbformat_minor": 2,
 "cells": [
  {
   "cell_type": "code",
   "execution_count": 1,
   "metadata": {},
   "outputs": [],
   "source": [
    "import tensorflow as tf\n",
    "import os\n",
    "\n",
    "base_dir = './train'"
   ]
  },
  {
   "cell_type": "code",
   "execution_count": 2,
   "metadata": {},
   "outputs": [
    {
     "output_type": "stream",
     "name": "stdout",
     "text": [
      "Found 288 images belonging to 36 classes.\nFound 71 images belonging to 36 classes.\n"
     ]
    }
   ],
   "source": [
    "\n",
    "IMAGE_SIZE = 224\n",
    "BATCH_SIZE = 64\n",
    "\n",
    "datagen = tf.keras.preprocessing.image.ImageDataGenerator( \n",
    "    rescale = 1./255, \n",
    "    validation_split=0.2    \n",
    ")\n",
    "train_generator = datagen.flow_from_directory( \n",
    "    base_dir, \n",
    "    target_size=(IMAGE_SIZE, IMAGE_SIZE),  \n",
    "    batch_size = BATCH_SIZE, \n",
    "    subset='training'\n",
    ")\n",
    "val_generator = datagen.flow_from_directory(\n",
    "    base_dir, \n",
    "    target_size=(IMAGE_SIZE, IMAGE_SIZE),\n",
    "    batch_size=BATCH_SIZE,\n",
    "    subset='validation'\n",
    ")"
   ]
  },
  {
   "cell_type": "code",
   "execution_count": 3,
   "metadata": {},
   "outputs": [
    {
     "output_type": "stream",
     "name": "stdout",
     "text": [
      "{'apple': 0, 'banana': 1, 'beetroot': 2, 'bell pepper': 3, 'cabbage': 4, 'capsicum': 5, 'carrot': 6, 'cauliflower': 7, 'chilli pepper': 8, 'corn': 9, 'cucumber': 10, 'eggplant': 11, 'garlic': 12, 'ginger': 13, 'grapes': 14, 'jalepeno': 15, 'kiwi': 16, 'lemon': 17, 'lettuce': 18, 'mango': 19, 'onion': 20, 'orange': 21, 'paprika': 22, 'pear': 23, 'peas': 24, 'pineapple': 25, 'pomegranate': 26, 'potato': 27, 'raddish': 28, 'soy beans': 29, 'spinach': 30, 'sweetcorn': 31, 'sweetpotato': 32, 'tomato': 33, 'turnip': 34, 'watermelon': 35}\n"
     ]
    }
   ],
   "source": [
    "print(train_generator.class_indices)\n",
    "labels = '\\n'.join(sorted(train_generator.class_indices.keys()))\n",
    "with open('labels.txt', 'w') as f:\n",
    "    f.write(labels)"
   ]
  },
  {
   "cell_type": "code",
   "execution_count": 4,
   "metadata": {},
   "outputs": [],
   "source": [
    "IMG_SHAPE = (IMAGE_SIZE, IMAGE_SIZE, 3)\n",
    "base_model = tf.keras.applications.MobileNetV2(\n",
    "    input_shape=IMG_SHAPE,\n",
    "    include_top=False,\n",
    ")"
   ]
  },
  {
   "cell_type": "code",
   "execution_count": 5,
   "metadata": {},
   "outputs": [],
   "source": [
    "base_model.trainable = False\n",
    "model = tf.keras.Sequential([\n",
    "    base_model,\n",
    "    tf.keras.layers.Conv2D(32,3,activation='relu'),\n",
    "    tf.keras.layers.Dropout(0.2),\n",
    "    tf.keras.layers.GlobalAveragePooling2D(),\n",
    "    tf.keras.layers.Dense(36, activation='softmax')\n",
    "])"
   ]
  },
  {
   "cell_type": "code",
   "execution_count": 6,
   "metadata": {},
   "outputs": [],
   "source": [
    "model.compile(\n",
    "    optimizer=tf.keras.optimizers.Adam(),\n",
    "    loss = 'categorical_crossentropy',\n",
    "    metrics=['accuracy']\n",
    ")"
   ]
  },
  {
   "cell_type": "code",
   "execution_count": 7,
   "metadata": {},
   "outputs": [
    {
     "output_type": "stream",
     "name": "stdout",
     "text": [
      "Epoch 1/10\n",
      "5/5 [==============================] - 25s 5s/step - loss: 3.7135 - accuracy: 0.0786 - val_loss: 2.7711 - val_accuracy: 0.2254\n",
      "Epoch 2/10\n",
      "5/5 [==============================] - 16s 3s/step - loss: 2.2674 - accuracy: 0.3272 - val_loss: 1.9164 - val_accuracy: 0.4789\n",
      "Epoch 3/10\n",
      "5/5 [==============================] - 16s 3s/step - loss: 1.3050 - accuracy: 0.6313 - val_loss: 1.6124 - val_accuracy: 0.5775\n",
      "Epoch 4/10\n",
      "5/5 [==============================] - 16s 4s/step - loss: 0.8482 - accuracy: 0.7522 - val_loss: 1.1188 - val_accuracy: 0.7183\n",
      "Epoch 5/10\n",
      "5/5 [==============================] - 16s 3s/step - loss: 0.4174 - accuracy: 0.8858 - val_loss: 1.0371 - val_accuracy: 0.6901\n",
      "Epoch 6/10\n",
      "5/5 [==============================] - 16s 3s/step - loss: 0.2633 - accuracy: 0.9570 - val_loss: 1.0125 - val_accuracy: 0.7183\n",
      "Epoch 7/10\n",
      "5/5 [==============================] - 16s 3s/step - loss: 0.1318 - accuracy: 0.9745 - val_loss: 0.9128 - val_accuracy: 0.7606\n",
      "Epoch 8/10\n",
      "5/5 [==============================] - 16s 3s/step - loss: 0.0753 - accuracy: 0.9910 - val_loss: 0.9192 - val_accuracy: 0.7465\n",
      "Epoch 9/10\n",
      "5/5 [==============================] - 16s 3s/step - loss: 0.0458 - accuracy: 0.9969 - val_loss: 0.9652 - val_accuracy: 0.7183\n",
      "Epoch 10/10\n",
      "5/5 [==============================] - 17s 4s/step - loss: 0.0385 - accuracy: 0.9953 - val_loss: 0.9355 - val_accuracy: 0.7042\n"
     ]
    }
   ],
   "source": [
    "epochs = 10\n",
    "history = model.fit(\n",
    "    train_generator,\n",
    "    epochs=epochs,\n",
    "    validation_data=val_generator\n",
    ")"
   ]
  },
  {
   "cell_type": "code",
   "execution_count": 9,
   "metadata": {},
   "outputs": [
    {
     "output_type": "stream",
     "name": "stdout",
     "text": [
      "INFO:tensorflow:Assets written to: assets\n",
      "INFO:tensorflow:Assets written to: assets\n"
     ]
    }
   ],
   "source": [
    "saved_model_dir = ''\n",
    "tf.saved_model.save(model, saved_model_dir)\n",
    "\n",
    "converter = tf.lite.TFLiteConverter.from_saved_model(saved_model_dir)\n",
    "tflite_model = converter.convert()\n",
    "\n",
    "with open('model.tflite', 'wb') as f:\n",
    "    f.write(tflite_model)"
   ]
  },
  {
   "cell_type": "code",
   "execution_count": null,
   "metadata": {},
   "outputs": [],
   "source": []
  }
 ]
}